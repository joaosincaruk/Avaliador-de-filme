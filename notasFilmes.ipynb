{
  "nbformat": 4,
  "nbformat_minor": 0,
  "metadata": {
    "colab": {
      "provenance": [],
      "authorship_tag": "ABX9TyOLW4QQb9VNr5dreG2+6HPX",
      "include_colab_link": true
    },
    "kernelspec": {
      "name": "python3",
      "display_name": "Python 3"
    },
    "language_info": {
      "name": "python"
    }
  },
  "cells": [
    {
      "cell_type": "markdown",
      "metadata": {
        "id": "view-in-github",
        "colab_type": "text"
      },
      "source": [
        "<a href=\"https://colab.research.google.com/github/joaosincaruk/Avaliador-de-filme/blob/main/notasFilmes.ipynb\" target=\"_parent\"><img src=\"https://colab.research.google.com/assets/colab-badge.svg\" alt=\"Open In Colab\"/></a>"
      ]
    },
    {
      "cell_type": "code",
      "execution_count": null,
      "metadata": {
        "id": "yDjI0ntEULt6"
      },
      "outputs": [],
      "source": [
        "#@title **PROGRAMA DE AVALIAÇÃO FILMES E SERIES**\n",
        "# Programa para avaliar filmes, séries etc\n",
        "\n",
        "# O método de avaliação irá abranger 5 quesitos:\n",
        "#   História (30% da nota)\n",
        "#   Atuações (20% da nota)\n",
        "#   Direção (20% da nota)\n",
        "#   Entretenimento (20% da nota)\n",
        "#   Originalidade (10% da nota)\n",
        "\n",
        "# As notas serão compostas a partir de\n",
        "# Extraordinário - 9,0 a 10\n",
        "# Ótimo - 8,0 a 8,9\n",
        "# Bom - 7,0 a 7,9\n",
        "# Regular - 5,0 a 6,9\n",
        "# Ruim - 3,0 a 4,9\n",
        "# Péssimo 0 a 2,9"
      ]
    },
    {
      "cell_type": "code",
      "source": [
        "def pedir_nota(quesito):\n",
        "  while True:\n",
        "    try:\n",
        "      nota = float(input(f'Quesito - {quesito} (de 0 a 10): '))\n",
        "      if 0 <= nota <= 10:\n",
        "        return nota\n",
        "      else:\n",
        "           print(f'A nota deve ser de 0 a 10 apenas')\n",
        "    except ValueError:\n",
        "               print(f'Digite um valor válido')\n",
        "\n",
        "nomeFilme = input(\"Digite o nome do filme: \")\n",
        "print(f'O filme avaliado é: {nomeFilme}')\n",
        "\n",
        "notaHistoria = pedir_nota(\"História\")\n",
        "notaAtuacao = pedir_nota(\"Atuação\")\n",
        "notaDirecao = pedir_nota(\"Direção\")\n",
        "notaEntretenimento = pedir_nota(\"Entretenimento\")\n",
        "notaOriginalidade = pedir_nota(\"Originalidade\")\n",
        "\n",
        "notaFinal = ((notaHistoria * 0.3) + (notaAtuacao * 0.2) + (notaDirecao * 0.2) + (notaEntretenimento * 0.2) + (notaOriginalidade * 0.1))\n",
        "\n",
        "print(f'A nota final do filme {nomefilme} foi de: {notaFinal}')"
      ],
      "metadata": {
        "colab": {
          "base_uri": "https://localhost:8080/"
        },
        "id": "IDHUgI98WlUz",
        "outputId": "6bb75837-6b1d-48ea-b106-e1752d4919d3"
      },
      "execution_count": null,
      "outputs": [
        {
          "output_type": "stream",
          "name": "stdout",
          "text": [
            "Digite o nome do filme: CORINGA\n",
            "O filme avaliado é: CORINGA\n",
            "Quesito - História (de 0 a 10): 9\n",
            "Quesito - Atuação (de 0 a 10): 10\n",
            "Quesito - Direção (de 0 a 10): 10\n",
            "Quesito - Entretenimento (de 0 a 10): 9\n",
            "Quesito - Originalidade (de 0 a 10): 8\n",
            "A nota final do filme O Menu foi de: 9.3\n"
          ]
        }
      ]
    }
  ]
}